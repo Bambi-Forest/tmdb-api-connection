{
 "cells": [
  {
   "attachments": {},
   "cell_type": "markdown",
   "metadata": {},
   "source": [
    "## Code snippets to remember"
   ]
  },
  {
   "cell_type": "code",
   "execution_count": null,
   "metadata": {},
   "outputs": [],
   "source": [
    "# Extract nested list, create a data series of the list and concat onto a dataframe\n",
    "extraction = extracted_movie_records_df.genre_ids.apply(pd.Series)\n",
    "extraction1 = pd.DataFrame(extraction)\n",
    "extraction1['ids'] = extracted_movie_records_df['id']\n",
    "extraction1 = extraction1.astype({0:'int'})\n",
    "unnested_genre_id = extraction1\n",
    "unnested_genre_id"
   ]
  },
  {
   "cell_type": "code",
   "execution_count": null,
   "metadata": {},
   "outputs": [],
   "source": [
    "extracted_movie_records_df.query(' `id` == 779047')"
   ]
  }
 ],
 "metadata": {
  "language_info": {
   "name": "python"
  },
  "orig_nbformat": 4
 },
 "nbformat": 4,
 "nbformat_minor": 2
}
