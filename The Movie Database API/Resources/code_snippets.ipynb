{
 "cells": [
  {
   "attachments": {},
   "cell_type": "markdown",
   "metadata": {},
   "source": [
    "## Code snippets to remember"
   ]
  },
  {
   "cell_type": "code",
   "execution_count": null,
   "metadata": {},
   "outputs": [],
   "source": [
    "# Extract nested list, create a data series of the list and concat onto a dataframe\n",
    "extraction = extracted_movie_records_df.genre_ids.apply(pd.Series)\n",
    "extraction1 = pd.DataFrame(extraction)\n",
    "extraction1['ids'] = extracted_movie_records_df['id']\n",
    "extraction1 = extraction1.astype({0:'int'})\n",
    "unnested_genre_id = extraction1\n",
    "unnested_genre_id"
   ]
  },
  {
   "cell_type": "code",
   "execution_count": null,
   "metadata": {},
   "outputs": [],
   "source": [
    "extracted_movie_records_df.query(' `id` == 779047')"
   ]
  },
  {
   "cell_type": "code",
   "execution_count": null,
   "metadata": {},
   "outputs": [],
   "source": [
    "def download_blob_to_csv(file_path,file_name):\n",
    "    #blob_service_client = BlobServiceClient.from_connection_string(connection_string)\n",
    "    #blob_client = blob_service_client.from_connection_string(blob_service_client, container=container_name, blob=file_name)\n",
    "    blob = BlobClient.from_connection_string(conn_str=connection_string, container_name=container_name, blob_name=file_name)\n",
    "    with open(file_path,\"wb\") as data:\n",
    "       blob_data =  blob.download_blob()\n",
    "       blob_data.readinto(data)\n",
    "       return os.listdir(\"Resources/\")\n",
    "    \n",
    "file_pathh = update_file_name(file= result_file)\n",
    "download_blob_to_csv(file_path = file_pathh,file_name = result_file)"
   ]
  }
 ],
 "metadata": {
  "language_info": {
   "name": "python"
  },
  "orig_nbformat": 4
 },
 "nbformat": 4,
 "nbformat_minor": 2
}
