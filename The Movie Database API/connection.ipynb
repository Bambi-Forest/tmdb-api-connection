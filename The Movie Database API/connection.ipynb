{
 "cells": [
  {
   "attachments": {},
   "cell_type": "markdown",
   "metadata": {},
   "source": [
    "The Movie Database API – \n",
    "- Objective: Use this API to analyze the top 5 movies, by genre, starring any of the top 10 paid actresses or the top 10 paid actors in the US.​"
   ]
  },
  {
   "attachments": {},
   "cell_type": "markdown",
   "metadata": {},
   "source": [
    "# Import Dependencies"
   ]
  },
  {
   "cell_type": "code",
   "execution_count": 50,
   "metadata": {},
   "outputs": [],
   "source": [
    "#import Dependencies\n",
    "import json \n",
    "import requests\n",
    "import pandas as pd\n",
    "import numpy as np\n",
    "from pprint import pprint\n",
    "import os\n",
    "import collections\n",
    "from azure.storage.blob import BlobServiceClient\n",
    "from dotenv import load_dotenv\n"
   ]
  },
  {
   "attachments": {},
   "cell_type": "markdown",
   "metadata": {},
   "source": [
    "# THBD API Connection"
   ]
  },
  {
   "cell_type": "code",
   "execution_count": 51,
   "metadata": {},
   "outputs": [
    {
     "data": {
      "text/plain": [
       "True"
      ]
     },
     "execution_count": 51,
     "metadata": {},
     "output_type": "execute_result"
    }
   ],
   "source": [
    "# load api key variable\n",
    "load_dotenv()"
   ]
  },
  {
   "cell_type": "code",
   "execution_count": 52,
   "metadata": {},
   "outputs": [],
   "source": [
    "# Set Authentication\n",
    "\n",
    "API_KEY = os.getenv(\"client_api_key\")\n",
    "base_url = \"https://api.themoviedb.org/\"\n",
    "auth_url = \"https://api.themoviedb.org/3/authentication\"\n",
    "\n",
    "headers = {\t\"accept\":          \"application/json\", \n",
    "\t         \"Authorization\": f'Bearer {API_KEY}'}\n",
    "params = {'': ''}"
   ]
  },
  {
   "cell_type": "code",
   "execution_count": 53,
   "metadata": {},
   "outputs": [],
   "source": [
    "# Endpoints\n",
    "\n",
    "#Movie Lists Folder\n",
    "top_rated_movie = '3/movie/top_rated'\n",
    "page = 1\n",
    "top_rated_movie_params = {'language': 'en-US', 'page': {page}, 'region': 'US'}\n",
    "\n",
    "# Genre List\n",
    "genre_list = '3/genre/movie/list'\n",
    "genre_list_param = {'language' : 'en'}\n",
    "\n",
    "# Actors\n",
    "movie_id = 569094\n",
    "actor_info = f'/3/movie/{movie_id}/credits'\n",
    "actor_info_param = {'movie_id' : {movie_id}}\n"
   ]
  },
  {
   "cell_type": "code",
   "execution_count": 54,
   "metadata": {},
   "outputs": [
    {
     "name": "stdout",
     "output_type": "stream",
     "text": [
      "https://api.themoviedb.org/3/authentication <Response [200]>\n"
     ]
    }
   ],
   "source": [
    "# Check Authentication & Response check\n",
    "def response_check():\n",
    "    try:\n",
    "        response = requests.get(auth_url,headers=headers)\n",
    "        response.raise_for_status()\n",
    "        print(auth_url + ' {}'.format(response) )\n",
    "    except requests.exceptions.HTTPError as err:\n",
    "        raise SystemExit(err)\n",
    "response_check()"
   ]
  },
  {
   "cell_type": "code",
   "execution_count": 55,
   "metadata": {},
   "outputs": [
    {
     "name": "stdout",
     "output_type": "stream",
     "text": [
      "https://api.themoviedb.org/3/movie/top_rated <Response [200]>\n",
      "https://api.themoviedb.org/3/genre/movie/list <Response [200]>\n",
      "https://api.themoviedb.org//3/movie/569094/credits <Response [200]>\n"
     ]
    }
   ],
   "source": [
    "# Check Endpoint & Response check\n",
    "def response_endpoint_check(end_point, headers, params):\n",
    "    try:\n",
    "        response = requests.get(base_url + end_point,headers=headers, params=params)\n",
    "        response.raise_for_status()\n",
    "        print(base_url + end_point + ' {}'.format(response) )\n",
    "    except requests.exceptions.HTTPError as err:\n",
    "        print(\"Http Error:\",err)\n",
    "    \n",
    "response_endpoint_check(end_point=top_rated_movie,headers=headers, params=top_rated_movie_params)\n",
    "response_endpoint_check(end_point=genre_list,headers=headers, params=genre_list_param)\n",
    "response_endpoint_check(end_point=actor_info,headers=headers, params=actor_info_param)"
   ]
  },
  {
   "attachments": {},
   "cell_type": "markdown",
   "metadata": {},
   "source": [
    "# CSV Import"
   ]
  },
  {
   "cell_type": "code",
   "execution_count": 56,
   "metadata": {},
   "outputs": [
    {
     "data": {
      "text/html": [
       "<div>\n",
       "<style scoped>\n",
       "    .dataframe tbody tr th:only-of-type {\n",
       "        vertical-align: middle;\n",
       "    }\n",
       "\n",
       "    .dataframe tbody tr th {\n",
       "        vertical-align: top;\n",
       "    }\n",
       "\n",
       "    .dataframe thead th {\n",
       "        text-align: right;\n",
       "    }\n",
       "</style>\n",
       "<table border=\"1\" class=\"dataframe\">\n",
       "  <thead>\n",
       "    <tr style=\"text-align: right;\">\n",
       "      <th></th>\n",
       "      <th>full_name</th>\n",
       "    </tr>\n",
       "  </thead>\n",
       "  <tbody>\n",
       "    <tr>\n",
       "      <th>0</th>\n",
       "      <td>Samuel L. Jackson</td>\n",
       "    </tr>\n",
       "    <tr>\n",
       "      <th>1</th>\n",
       "      <td>Robert Downey Jr.</td>\n",
       "    </tr>\n",
       "    <tr>\n",
       "      <th>2</th>\n",
       "      <td>Tom Hanks</td>\n",
       "    </tr>\n",
       "    <tr>\n",
       "      <th>3</th>\n",
       "      <td>Tom Cruise</td>\n",
       "    </tr>\n",
       "    <tr>\n",
       "      <th>4</th>\n",
       "      <td>Zoe Saldana</td>\n",
       "    </tr>\n",
       "    <tr>\n",
       "      <th>5</th>\n",
       "      <td>Chris Pratt</td>\n",
       "    </tr>\n",
       "    <tr>\n",
       "      <th>6</th>\n",
       "      <td>Chris Hemsworth</td>\n",
       "    </tr>\n",
       "    <tr>\n",
       "      <th>7</th>\n",
       "      <td>Bradley Cooper</td>\n",
       "    </tr>\n",
       "    <tr>\n",
       "      <th>8</th>\n",
       "      <td>Chris Evans</td>\n",
       "    </tr>\n",
       "    <tr>\n",
       "      <th>9</th>\n",
       "      <td>Harrison Ford</td>\n",
       "    </tr>\n",
       "  </tbody>\n",
       "</table>\n",
       "</div>"
      ],
      "text/plain": [
       "           full_name\n",
       "0  Samuel L. Jackson\n",
       "1  Robert Downey Jr.\n",
       "2          Tom Hanks\n",
       "3         Tom Cruise\n",
       "4        Zoe Saldana\n",
       "5        Chris Pratt\n",
       "6    Chris Hemsworth\n",
       "7     Bradley Cooper\n",
       "8        Chris Evans\n",
       "9      Harrison Ford"
      ]
     },
     "execution_count": 56,
     "metadata": {},
     "output_type": "execute_result"
    }
   ],
   "source": [
    "# Import the CSV file & Load to Dataframe\n",
    "\n",
    "#Create relative path to the .csv file. \n",
    "file_path = os.path.join(\"Resources\",\"top_paid_us_actors.csv\") \n",
    "file = \"top_paid_us_actors.csv\"\n",
    "\n",
    "# Read data into dataframe(df) and show top 10 All time paid US actors.  \n",
    "top_paid_actor = pd.read_csv(file_path,encoding=\"utf8\", sep=',')\n",
    "top_ten_paid_actors = pd.DataFrame(top_paid_actor)\n",
    "top_ten_paid_actors.head(10)"
   ]
  },
  {
   "cell_type": "code",
   "execution_count": null,
   "metadata": {},
   "outputs": [],
   "source": []
  }
 ],
 "metadata": {
  "kernelspec": {
   "display_name": "Python 3",
   "language": "python",
   "name": "python3"
  },
  "language_info": {
   "codemirror_mode": {
    "name": "ipython",
    "version": 3
   },
   "file_extension": ".py",
   "mimetype": "text/x-python",
   "name": "python",
   "nbconvert_exporter": "python",
   "pygments_lexer": "ipython3",
   "version": "3.11.3"
  },
  "orig_nbformat": 4
 },
 "nbformat": 4,
 "nbformat_minor": 2
}
